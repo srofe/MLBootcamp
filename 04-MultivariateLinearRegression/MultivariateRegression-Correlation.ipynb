{
 "cells": [
  {
   "cell_type": "markdown",
   "source": [
    "# Multivariable Linear Regression - Exploring Correlation\n",
    "Continuing from the previous notebook (MultivariateRegression-ExploreData) this notebook will look at correlation, both between the features and the target and the correlation between features."
   ],
   "metadata": {
    "collapsed": false
   }
  },
  {
   "cell_type": "markdown",
   "source": [
    "## Imports and Packages, Load Data Set, Create Data Frame"
   ],
   "metadata": {
    "collapsed": false
   }
  },
  {
   "cell_type": "code",
   "execution_count": 1,
   "outputs": [],
   "source": [
    "# Imports and packages required\n",
    "from sklearn.datasets import fetch_california_housing\n",
    "import pandas as pd\n",
    "import matplotlib.pyplot as plt\n",
    "import seaborn as sns"
   ],
   "metadata": {
    "collapsed": false
   }
  },
  {
   "cell_type": "code",
   "execution_count": 2,
   "outputs": [],
   "source": [
    "# Load the data set from sklearn\n",
    "california_dataset = fetch_california_housing()"
   ],
   "metadata": {
    "collapsed": false
   }
  },
  {
   "cell_type": "code",
   "execution_count": 3,
   "outputs": [],
   "source": [
    "# Create a Pandas data frame:\n",
    "data = pd.DataFrame(data=california_dataset.data, columns=california_dataset.feature_names)\n",
    "\n",
    "# Add a column with the median house price (target)\n",
    "data['MEDPRICE'] = california_dataset.target"
   ],
   "metadata": {
    "collapsed": false
   }
  },
  {
   "cell_type": "markdown",
   "source": [
    "## Correlation\n",
    "## $$ \\rho_{XY} = corr(X,Y) $$\n",
    "## $$ -1.0 \\leq \\rho_{XY} \\leq +1.0 $$"
   ],
   "metadata": {
    "collapsed": false
   }
  },
  {
   "cell_type": "code",
   "execution_count": 8,
   "outputs": [
    {
     "data": {
      "text/plain": "0.15194828974145785"
     },
     "execution_count": 8,
     "metadata": {},
     "output_type": "execute_result"
    }
   ],
   "source": [
    "# Correlation between the average number of rooms and property price\n",
    "data.MEDPRICE.corr(data.AveRooms)"
   ],
   "metadata": {
    "collapsed": false
   }
  },
  {
   "cell_type": "code",
   "execution_count": null,
   "outputs": [],
   "source": [],
   "metadata": {
    "collapsed": false
   }
  }
 ],
 "metadata": {
  "kernelspec": {
   "display_name": "Python 3",
   "language": "python",
   "name": "python3"
  },
  "language_info": {
   "codemirror_mode": {
    "name": "ipython",
    "version": 2
   },
   "file_extension": ".py",
   "mimetype": "text/x-python",
   "name": "python",
   "nbconvert_exporter": "python",
   "pygments_lexer": "ipython2",
   "version": "2.7.6"
  }
 },
 "nbformat": 4,
 "nbformat_minor": 0
}
