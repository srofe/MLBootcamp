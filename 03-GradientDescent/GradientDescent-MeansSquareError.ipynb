{
 "cells": [
  {
   "cell_type": "markdown",
   "source": [
    "# Mean Squared Error (MSE) as Cost Function\n",
    "\n",
    "Instead of using an algebraic cost function, we will use the Mean Square Error (MSE) as the cost function. The MSE will be derived from attempting to fit a linear fit to real data - rather than an algebraic expression.\n",
    "\n",
    "## Mean Square Error - Cost Function\n",
    "\n",
    "The Residual Sum of Squares (RSS) is expressed as:\n",
    "\n",
    "$$ RSS = \\sum_{i=1}^{n} \\big( y^{(i)} - h_\\theta x^{(i)} \\big)^2 $$\n",
    "\n",
    "The MSE is then:\n",
    "\n",
    "$$ MSE = \\frac{1}{n} \\sum_{i=1}^{n} \\big( y^{(i)} - h_\\theta x^{(i)} \\big)^2 $$\n",
    "\n",
    "or:\n",
    "\n",
    "$$ MSE = \\frac{1}{n} \\sum_{i=1}^{n} \\big( y - \\hat{y} \\big)^i $$\n",
    "\n",
    "where $\\hat{y}$ is the estimate of $y$ using the estimated or predicted parameters from the gradient descent algorithm."
   ],
   "metadata": {
    "collapsed": false
   }
  },
  {
   "cell_type": "code",
   "execution_count": null,
   "outputs": [],
   "source": [],
   "metadata": {
    "collapsed": false
   }
  }
 ],
 "metadata": {
  "kernelspec": {
   "display_name": "Python 3",
   "language": "python",
   "name": "python3"
  },
  "language_info": {
   "codemirror_mode": {
    "name": "ipython",
    "version": 2
   },
   "file_extension": ".py",
   "mimetype": "text/x-python",
   "name": "python",
   "nbconvert_exporter": "python",
   "pygments_lexer": "ipython2",
   "version": "2.7.6"
  }
 },
 "nbformat": 4,
 "nbformat_minor": 0
}
