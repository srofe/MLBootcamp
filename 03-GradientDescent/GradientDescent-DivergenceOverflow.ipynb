{
 "cells": [
  {
   "cell_type": "markdown",
   "source": [
    "# Gradient Descent - Divergence and Overflow\n",
    "This shows an example of how gradient descent can diverge and produce computational overflows when the cost function does not have minima.\n",
    "\n",
    "To investigate this, the following cost function is used:\n",
    "$$ h(x) = x^5 - 2 x^4 + 2 $$"
   ],
   "metadata": {
    "collapsed": false
   }
  },
  {
   "cell_type": "markdown",
   "source": [
    "## Imports and Packages"
   ],
   "metadata": {
    "collapsed": false
   }
  },
  {
   "cell_type": "code",
   "execution_count": 1,
   "outputs": [],
   "source": [
    "import matplotlib.pyplot as plt\n",
    "import numpy as np"
   ],
   "metadata": {
    "collapsed": false
   }
  },
  {
   "cell_type": "code",
   "execution_count": 2,
   "outputs": [],
   "source": [
    "# Create 1000 data points in the range +/2.5 for the x variables.\n",
    "xData = np.linspace(start=-2.5, stop=2.5, num=1000)"
   ],
   "metadata": {
    "collapsed": false
   }
  },
  {
   "cell_type": "markdown",
   "source": [
    "## Cost Function $ h(x) $ and Derivative Function $ dh(x) $\n",
    "The derivative of $ h(x) $ is:\n",
    "$$ dh(x) = 5 x^4 - 8x^3 $$\n"
   ],
   "metadata": {
    "collapsed": false
   }
  },
  {
   "cell_type": "code",
   "execution_count": 4,
   "outputs": [],
   "source": [
    "# Create Python functions for the cost function and derivative function:\n",
    "def h(x) :\n",
    "    return x**5 - 2 * x**4 + 2\n",
    "\n",
    "def dh(x) :\n",
    "    return 5 * x**4 - 8 * x**3"
   ],
   "metadata": {
    "collapsed": false
   }
  },
  {
   "cell_type": "code",
   "execution_count": null,
   "outputs": [],
   "source": [],
   "metadata": {
    "collapsed": false
   }
  }
 ],
 "metadata": {
  "kernelspec": {
   "display_name": "Python 3",
   "language": "python",
   "name": "python3"
  },
  "language_info": {
   "codemirror_mode": {
    "name": "ipython",
    "version": 2
   },
   "file_extension": ".py",
   "mimetype": "text/x-python",
   "name": "python",
   "nbconvert_exporter": "python",
   "pygments_lexer": "ipython2",
   "version": "2.7.6"
  }
 },
 "nbformat": 4,
 "nbformat_minor": 0
}
