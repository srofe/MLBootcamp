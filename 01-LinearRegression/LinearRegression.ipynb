{
 "cells": [
  {
   "cell_type": "code",
   "execution_count": 1,
   "metadata": {
    "collapsed": true
   },
   "outputs": [],
   "source": [
    "import pandas\n",
    "from pandas import DataFrame"
   ]
  },
  {
   "cell_type": "code",
   "execution_count": 3,
   "outputs": [],
   "source": [
    "data = pandas.read_csv('cost_revenue.csv')"
   ],
   "metadata": {
    "collapsed": false
   }
  },
  {
   "cell_type": "code",
   "execution_count": 5,
   "outputs": [
    {
     "data": {
      "text/plain": "       production_budget_usd  worldwide_gross_usd\ncount           5.034000e+03         5.034000e+03\nmean            3.290784e+07         9.515685e+07\nstd             4.112589e+07         1.726012e+08\nmin             1.100000e+03         2.600000e+01\n25%             6.000000e+06         7.000000e+06\n50%             1.900000e+07         3.296202e+07\n75%             4.200000e+07         1.034471e+08\nmax             4.250000e+08         2.783919e+09",
      "text/html": "<div>\n<style scoped>\n    .dataframe tbody tr th:only-of-type {\n        vertical-align: middle;\n    }\n\n    .dataframe tbody tr th {\n        vertical-align: top;\n    }\n\n    .dataframe thead th {\n        text-align: right;\n    }\n</style>\n<table border=\"1\" class=\"dataframe\">\n  <thead>\n    <tr style=\"text-align: right;\">\n      <th></th>\n      <th>production_budget_usd</th>\n      <th>worldwide_gross_usd</th>\n    </tr>\n  </thead>\n  <tbody>\n    <tr>\n      <th>count</th>\n      <td>5.034000e+03</td>\n      <td>5.034000e+03</td>\n    </tr>\n    <tr>\n      <th>mean</th>\n      <td>3.290784e+07</td>\n      <td>9.515685e+07</td>\n    </tr>\n    <tr>\n      <th>std</th>\n      <td>4.112589e+07</td>\n      <td>1.726012e+08</td>\n    </tr>\n    <tr>\n      <th>min</th>\n      <td>1.100000e+03</td>\n      <td>2.600000e+01</td>\n    </tr>\n    <tr>\n      <th>25%</th>\n      <td>6.000000e+06</td>\n      <td>7.000000e+06</td>\n    </tr>\n    <tr>\n      <th>50%</th>\n      <td>1.900000e+07</td>\n      <td>3.296202e+07</td>\n    </tr>\n    <tr>\n      <th>75%</th>\n      <td>4.200000e+07</td>\n      <td>1.034471e+08</td>\n    </tr>\n    <tr>\n      <th>max</th>\n      <td>4.250000e+08</td>\n      <td>2.783919e+09</td>\n    </tr>\n  </tbody>\n</table>\n</div>"
     },
     "execution_count": 5,
     "metadata": {},
     "output_type": "execute_result"
    }
   ],
   "source": [
    "data.describe()"
   ],
   "metadata": {
    "collapsed": false
   }
  },
  {
   "cell_type": "code",
   "execution_count": 6,
   "outputs": [],
   "source": [
    "X = DataFrame(data, columns=['production_budget_usd'])\n",
    "y = DataFrame(data, columns=['worldwide_gross_usd'])"
   ],
   "metadata": {
    "collapsed": false
   }
  },
  {
   "cell_type": "code",
   "execution_count": null,
   "outputs": [],
   "source": [],
   "metadata": {
    "collapsed": false
   }
  }
 ],
 "metadata": {
  "kernelspec": {
   "display_name": "Python 3",
   "language": "python",
   "name": "python3"
  },
  "language_info": {
   "codemirror_mode": {
    "name": "ipython",
    "version": 2
   },
   "file_extension": ".py",
   "mimetype": "text/x-python",
   "name": "python",
   "nbconvert_exporter": "python",
   "pygments_lexer": "ipython2",
   "version": "2.7.6"
  }
 },
 "nbformat": 4,
 "nbformat_minor": 0
}
